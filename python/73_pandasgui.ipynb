{
 "cells": [
  {
   "cell_type": "code",
   "execution_count": 2,
   "metadata": {},
   "outputs": [
    {
     "name": "stderr",
     "output_type": "stream",
     "text": [
      "PandasGUI INFO — pandasgui.datasets — Saved https://raw.githubusercontent.com/adamerose/datasets/master/pokemon.csv to C:\\Users\\visio\\AppData\\Local\\pandasgui\\dataset_files\n",
      "PandasGUI INFO — pandasgui.datasets — Saved https://raw.githubusercontent.com/adamerose/datasets/master/car_crashes.csv to C:\\Users\\visio\\AppData\\Local\\pandasgui\\dataset_files\n",
      "PandasGUI INFO — pandasgui.datasets — Saved https://raw.githubusercontent.com/adamerose/datasets/master/iris.csv to C:\\Users\\visio\\AppData\\Local\\pandasgui\\dataset_files\n",
      "PandasGUI INFO — pandasgui.datasets — Saved https://raw.githubusercontent.com/adamerose/datasets/master/mpg.csv to C:\\Users\\visio\\AppData\\Local\\pandasgui\\dataset_files\n",
      "PandasGUI INFO — pandasgui.datasets — Saved https://raw.githubusercontent.com/adamerose/datasets/master/penguins.csv to C:\\Users\\visio\\AppData\\Local\\pandasgui\\dataset_files\n",
      "PandasGUI INFO — pandasgui.datasets — Saved https://raw.githubusercontent.com/adamerose/datasets/master/tips.csv to C:\\Users\\visio\\AppData\\Local\\pandasgui\\dataset_files\n",
      "PandasGUI INFO — pandasgui.datasets — Saved https://raw.githubusercontent.com/adamerose/datasets/master/titanic.csv to C:\\Users\\visio\\AppData\\Local\\pandasgui\\dataset_files\n",
      "PandasGUI INFO — pandasgui.datasets — Saved https://raw.githubusercontent.com/adamerose/datasets/master/gapminder.csv to C:\\Users\\visio\\AppData\\Local\\pandasgui\\dataset_files\n",
      "PandasGUI INFO — pandasgui.datasets — Saved https://raw.githubusercontent.com/adamerose/datasets/master/stockdata.csv to C:\\Users\\visio\\AppData\\Local\\pandasgui\\dataset_files\n",
      "PandasGUI INFO — pandasgui.datasets — Saved https://raw.githubusercontent.com/adamerose/datasets/master/mi_manufacturing.csv to C:\\Users\\visio\\AppData\\Local\\pandasgui\\dataset_files\n"
     ]
    }
   ],
   "source": [
    "from pandasgui.datasets import iris\n",
    "#importing the show function\n",
    "from pandasgui import show"
   ]
  },
  {
   "cell_type": "code",
   "execution_count": 3,
   "metadata": {},
   "outputs": [
    {
     "data": {
      "text/plain": [
       "<pandasgui.gui.PandasGui at 0x1cc7e91b550>"
      ]
     },
     "execution_count": 3,
     "metadata": {},
     "output_type": "execute_result"
    }
   ],
   "source": [
    "show(iris)"
   ]
  },
  {
   "cell_type": "code",
   "execution_count": null,
   "metadata": {},
   "outputs": [],
   "source": []
  }
 ],
 "metadata": {
  "kernelspec": {
   "display_name": "Python 3",
   "language": "python",
   "name": "python3"
  },
  "language_info": {
   "codemirror_mode": {
    "name": "ipython",
    "version": 3
   },
   "file_extension": ".py",
   "mimetype": "text/x-python",
   "name": "python",
   "nbconvert_exporter": "python",
   "pygments_lexer": "ipython3",
   "version": "3.8.7"
  }
 },
 "nbformat": 4,
 "nbformat_minor": 4
}
