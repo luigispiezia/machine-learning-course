{
  "nbformat": 4,
  "nbformat_minor": 0,
  "metadata": {
    "colab": {
      "name": "Class2-25-01-2021.ipynb",
      "provenance": [],
      "collapsed_sections": [],
      "mount_file_id": "1tf5p8_qZeg8Kmf7jTY0qxdaYxH84BLG-",
      "authorship_tag": "ABX9TyONsr7sGRS4k+9r7PWMpmI5",
      "include_colab_link": true
    },
    "kernelspec": {
      "name": "python3",
      "display_name": "Python 3"
    }
  },
  "cells": [
    {
      "cell_type": "markdown",
      "metadata": {
        "id": "view-in-github",
        "colab_type": "text"
      },
      "source": [
        "<a href=\"https://colab.research.google.com/github/visiont3lab/machine-learning-course/blob/main/Class2_25_01_2021.ipynb\" target=\"_parent\"><img src=\"https://colab.research.google.com/assets/colab-badge.svg\" alt=\"Open In Colab\"/></a>"
      ]
    },
    {
      "cell_type": "code",
      "metadata": {
        "id": "5Mg4dXz0qYmD",
        "colab": {
          "base_uri": "https://localhost:8080/"
        },
        "outputId": "4e3b4ee3-00d6-4617-d83a-ff24a604818d"
      },
      "source": [
        "!pip list | grep num"
      ],
      "execution_count": 4,
      "outputs": [
        {
          "output_type": "stream",
          "text": [
            "numba                         0.48.0         \n",
            "numexpr                       2.7.2          \n",
            "numpy                         1.19.5         \n"
          ],
          "name": "stdout"
        }
      ]
    },
    {
      "cell_type": "code",
      "metadata": {
        "colab": {
          "base_uri": "https://localhost:8080/"
        },
        "id": "N_X6yPlawrHq",
        "outputId": "0d80eb08-79c8-4623-a151-8b1aaf837e33"
      },
      "source": [
        "%cd /content/drive/MyDrive/machine-learning"
      ],
      "execution_count": 12,
      "outputs": [
        {
          "output_type": "stream",
          "text": [
            "/content/drive/MyDrive/machine-learning\n"
          ],
          "name": "stdout"
        }
      ]
    },
    {
      "cell_type": "code",
      "metadata": {
        "id": "wlJB2ZhKs6st"
      },
      "source": [
        "import numpy as np\r\n",
        "import cv2\r\n",
        "import pandas as pd"
      ],
      "execution_count": 1,
      "outputs": []
    },
    {
      "cell_type": "code",
      "metadata": {
        "colab": {
          "base_uri": "https://localhost:8080/"
        },
        "id": "Ap_PTn0Wtfar",
        "outputId": "50b43dbf-0be5-4d7c-824b-04b0caf7e898"
      },
      "source": [
        "a = np.array([ \r\n",
        "                [ \r\n",
        "                    [ -1.3 , 4 ,6, 5, 7  ] ,[1,2,3,4,5] \r\n",
        "                ],\r\n",
        "                [ \r\n",
        "                    [ -1.9 , 1.2 ,3.5, 4, 1.11  ] ,[1.1,21,31,44,55] \r\n",
        "                ],\r\n",
        "              ] \r\n",
        "            )\r\n",
        "\r\n",
        "b = list(np.array([ -1.3 , 4 , 5, 5, 7  ]))\r\n",
        "\r\n",
        "# array hanno una dimensione fissa\r\n",
        "# liste hanno dimensione che non è fissa\r\n",
        "#display(a)\r\n",
        "#b.shape\r\n",
        "len(b)"
      ],
      "execution_count": 68,
      "outputs": [
        {
          "output_type": "execute_result",
          "data": {
            "text/plain": [
              "5"
            ]
          },
          "metadata": {
            "tags": []
          },
          "execution_count": 68
        }
      ]
    },
    {
      "cell_type": "code",
      "metadata": {
        "colab": {
          "base_uri": "https://localhost:8080/"
        },
        "id": "2-d4qzE4v6RB",
        "outputId": "dd3c8d2d-c3dd-403f-a520-08c37778675f"
      },
      "source": [
        "l1 = [ np.array([-1.3]), 4 , \"CIAO\", 5, 7  ]\r\n",
        "l2 = [ \"flòdlf\", 4 , \"CIAO\", 5, 7  ]\r\n",
        "\r\n",
        "larray = np.array(l)\r\n",
        "larray.shape"
      ],
      "execution_count": 53,
      "outputs": [
        {
          "output_type": "stream",
          "text": [
            "/usr/local/lib/python3.6/dist-packages/ipykernel_launcher.py:4: VisibleDeprecationWarning: Creating an ndarray from ragged nested sequences (which is a list-or-tuple of lists-or-tuples-or ndarrays with different lengths or shapes) is deprecated. If you meant to do this, you must specify 'dtype=object' when creating the ndarray\n",
            "  after removing the cwd from sys.path.\n"
          ],
          "name": "stderr"
        },
        {
          "output_type": "execute_result",
          "data": {
            "text/plain": [
              "(5,)"
            ]
          },
          "metadata": {
            "tags": []
          },
          "execution_count": 53
        }
      ]
    },
    {
      "cell_type": "code",
      "metadata": {
        "colab": {
          "base_uri": "https://localhost:8080/"
        },
        "id": "gPokcKBntvqq",
        "outputId": "9a2ba103-9ee9-4295-f402-0b1d18294ac9"
      },
      "source": [
        "# per ogni elemento contenuto dentro la lista l\r\n",
        "m = []\r\n",
        "for w1,w2 in zip(l1,l2):\r\n",
        "    val = \"CIAO %s %s\" %(w1,w2)\r\n",
        "    m.append(val)\r\n",
        "m"
      ],
      "execution_count": 57,
      "outputs": [
        {
          "output_type": "execute_result",
          "data": {
            "text/plain": [
              "['CIAO [-1.3] flòdlf', 'CIAO 4 4', 'CIAO CIAO CIAO', 'CIAO 5 5', 'CIAO 7 7']"
            ]
          },
          "metadata": {
            "tags": []
          },
          "execution_count": 57
        }
      ]
    },
    {
      "cell_type": "code",
      "metadata": {
        "colab": {
          "base_uri": "https://localhost:8080/"
        },
        "id": "tCmD4Asn3LPu",
        "outputId": "cde5f2d6-12bb-4373-91c2-4af71189f9a6"
      },
      "source": [
        "# ------- Esercizio 1\r\n",
        "\r\n",
        "m1 = np.array([[[4,5,6,7]]])\r\n",
        "m2 = np.array([ \r\n",
        "                  [1.1,2.3,5.6,3.9], \r\n",
        "                  [-4.1,34.3,-55.6,36.9], \r\n",
        "                  [3.3,4.3,5.2,6] \r\n",
        "             ])\r\n",
        "\r\n",
        "#m3 = ARRAY --> VALORE ASSOLUTO abs(e+k)\r\n",
        "\r\n",
        "m2.shape"
      ],
      "execution_count": 89,
      "outputs": [
        {
          "output_type": "execute_result",
          "data": {
            "text/plain": [
              "(3, 4)"
            ]
          },
          "metadata": {
            "tags": []
          },
          "execution_count": 89
        }
      ]
    },
    {
      "cell_type": "code",
      "metadata": {
        "id": "Dt3aK67S8OvF"
      },
      "source": [
        "# Leonardo\r\n",
        "m3 = np.abs(m1[0][0]) + m2[1]\r\n",
        "m3 = np.sqrt(m1[0][0]) + m2[1]\r\n",
        "m3 = np.power(m1[0][0],5) + m2[1]"
      ],
      "execution_count": null,
      "outputs": []
    },
    {
      "cell_type": "code",
      "metadata": {
        "id": "fYY3l_Kr8UsO"
      },
      "source": [
        "# Mattia\r\n",
        "m3 = np.abs(m1[0][0] + m2[1])\r\n",
        "print(m3)\r\n",
        "# Radice quadrata\r\n",
        "m4 = np.sqrt(m1[0][0] + m2[0])\r\n",
        "print(m4)\r\n",
        "# potenza alla quinta\r\n",
        "m5 = np.power(5, m1[0][0] + m2[1])\r\n",
        "print(m5)"
      ],
      "execution_count": null,
      "outputs": []
    },
    {
      "cell_type": "code",
      "metadata": {
        "colab": {
          "base_uri": "https://localhost:8080/"
        },
        "id": "HBjO2q15Cysx",
        "outputId": "822d13c1-598a-47e7-ceb6-c03f35f6bc6c"
      },
      "source": [
        "# ------- Esercizio 2\r\n",
        "\r\n",
        "import pandas as pd\r\n",
        "import numpy as np\r\n",
        "url =\"https://raw.githubusercontent.com/pcm-dpc/COVID-19/master/dati-andamento-nazionale/dpc-covid19-ita-andamento-nazionale.csv\"\r\n",
        "df = pd.read_csv(url)\r\n",
        "\r\n",
        "totale_positivi_array = df[\"totale_positivi\"].values\r\n",
        "deceduti_array = df[\"deceduti\"].values\r\n",
        "\r\n",
        "# Transforma in lista\r\n",
        "# Il numero di deceduti oggi\r\n",
        "# Il numero di totale_positivi oggi\r\n",
        "# Varizione totale positiv tra ieri ed oggi --> l'ultimo - il penultimo della nostra lista\r\n",
        "\r\n",
        "# prime 5 righe\r\n",
        "#df.head()\r\n",
        "#df.tail(1)\r\n",
        "#df[\"totale_positivi\"].values\r\n",
        "# Dataframe --> dizionario \r\n",
        "\r\n",
        "#df\r\n",
        "\r\n",
        "# Totale positivi, Dimessi guariti , Deceduti , Totale Casi\r\n",
        "\r\n",
        "# Colonne che ci servono\r\n",
        "# df.keys() # Trovare i nomi dell colonne\r\n",
        "l = [\"totale_positivi\",\"dimessi_guariti\",\"deceduti\",\"totale_casi\"]\r\n",
        "ultimi_dati_lista = [] \r\n",
        "variazione_dati_lista =[]\r\n",
        "variazione_dati_array = np.array([0,0,0,0])\r\n",
        "ultimi_dati_dict = {}\r\n",
        "variazione_dati_dict ={}\r\n",
        "\r\n",
        "i = 0\r\n",
        "for el in l:\r\n",
        "    # Selezioniamo la colonna\r\n",
        "    col_array = df[el].values\r\n",
        "    #print(col_array[-2:]) # da gli ultimi 2 alla fine\r\n",
        "    \r\n",
        "    # Lista\r\n",
        "    ultimi_dati_lista.append(col_array[-1])\r\n",
        "    variazione_dati_lista.append(   col_array[-1] - col_array[-2]      )\r\n",
        "    variazione_dati_array[i] =  col_array[-1] - col_array[-2]  \r\n",
        "    \r\n",
        "    # Dizionario\r\n",
        "    ultimi_dati_dict[el] = col_array[-1]\r\n",
        "    #nome = \"variazione \" + el.replace(\"_\",\" \")\r\n",
        "    nome = \"variazione %s \" % (el.replace(\"_\",\" \"))\r\n",
        "    #print(el.replace(\"_\",\" \"))\r\n",
        "    variazione_dati_dict[nome] = (col_array[-1] - col_array[-2] )\r\n",
        "\r\n",
        "    i=i+1\r\n",
        "    \r\n",
        "print(\"LISTE\")\r\n",
        "print(l)\r\n",
        "print(ultimi_dati_lista)\r\n",
        "print(variazione_dati_lista)\r\n",
        "print(variazione_dati_array)\r\n",
        "\r\n",
        "print(\"DIZIONARI\")\r\n",
        "print(ultimi_dati_dict)\r\n",
        "print(variazione_dati_dict)\r\n",
        "\r\n"
      ],
      "execution_count": 189,
      "outputs": [
        {
          "output_type": "stream",
          "text": [
            "LISTE\n",
            "['totale_positivi', 'dimessi_guariti', 'deceduti', 'totale_casi']\n",
            "[491630, 1897861, 85881, 2475372]\n",
            "[-7648, 15787, 420, 8559]\n",
            "[-7648 15787   420  8559]\n",
            "DIZIONARI\n",
            "{'totale_positivi': 491630, 'dimessi_guariti': 1897861, 'deceduti': 85881, 'totale_casi': 2475372}\n",
            "{'variazione totale positivi ': -7648, 'variazione dimessi guariti ': 15787, 'variazione deceduti ': 420, 'variazione totale casi ': 8559}\n"
          ],
          "name": "stdout"
        }
      ]
    },
    {
      "cell_type": "code",
      "metadata": {
        "colab": {
          "base_uri": "https://localhost:8080/"
        },
        "id": "F9zbhTLLKW8W",
        "outputId": "6b24e099-a137-4f8a-9a16-f7d185473986"
      },
      "source": [
        "a = [4,6]\r\n",
        "a = [0,0,0]\r\n",
        "a = np.array([0,0,0])"
      ],
      "execution_count": 185,
      "outputs": [
        {
          "output_type": "execute_result",
          "data": {
            "text/plain": [
              "[4, 6]"
            ]
          },
          "metadata": {
            "tags": []
          },
          "execution_count": 185
        }
      ]
    },
    {
      "cell_type": "code",
      "metadata": {
        "colab": {
          "base_uri": "https://localhost:8080/"
        },
        "id": "u-omhaZACvUq",
        "outputId": "a089fe10-da02-4100-810e-e30d5a6b9e40"
      },
      "source": [
        "list(np.array([4])"
      ],
      "execution_count": 142,
      "outputs": [
        {
          "output_type": "execute_result",
          "data": {
            "text/plain": [
              "[4]"
            ]
          },
          "metadata": {
            "tags": []
          },
          "execution_count": 142
        }
      ]
    },
    {
      "cell_type": "code",
      "metadata": {
        "id": "05svORlACe5C"
      },
      "source": [
        "a = list()"
      ],
      "execution_count": null,
      "outputs": []
    },
    {
      "cell_type": "code",
      "metadata": {
        "colab": {
          "base_uri": "https://localhost:8080/"
        },
        "id": "kvGVPIVnDdsc",
        "outputId": "e10beaa3-3e25-43c8-bc19-7e3548e0b7c6"
      },
      "source": [
        "%load_ext google.colab.data_table"
      ],
      "execution_count": 143,
      "outputs": [
        {
          "output_type": "stream",
          "text": [
            "The google.colab.data_table extension is already loaded. To reload it, use:\n",
            "  %reload_ext google.colab.data_table\n"
          ],
          "name": "stdout"
        }
      ]
    },
    {
      "cell_type": "code",
      "metadata": {
        "colab": {
          "base_uri": "https://localhost:8080/",
          "height": 185
        },
        "id": "kTiUbsR_BLPx",
        "outputId": "fda38fbc-03ad-4730-eac0-0adf7d2153a9"
      },
      "source": [
        "d = {\r\n",
        "    \"c1\" : np.array([4,5,6]),\r\n",
        "    \"c2\" : np.array([4,6,4])     \r\n",
        "}\r\n",
        "print(d.keys())\r\n",
        "print(d[\"c1\"])\r\n",
        "\r\n",
        "dte = pd.DataFrame(d)\r\n",
        "dte.head()"
      ],
      "execution_count": 148,
      "outputs": [
        {
          "output_type": "stream",
          "text": [
            "dict_keys(['c1', 'c2'])\n",
            "[4 5 6]\n"
          ],
          "name": "stdout"
        },
        {
          "output_type": "execute_result",
          "data": {
            "application/vnd.google.colaboratory.module+javascript": "\n      import \"https://ssl.gstatic.com/colaboratory/data_table/a6224c040fa35dcf/data_table.js\";\n\n      window.createDataTable({\n        data: [[{\n            'v': 0,\n            'f': \"0\",\n        },\n{\n            'v': 4,\n            'f': \"4\",\n        },\n{\n            'v': 4,\n            'f': \"4\",\n        }],\n [{\n            'v': 1,\n            'f': \"1\",\n        },\n{\n            'v': 5,\n            'f': \"5\",\n        },\n{\n            'v': 6,\n            'f': \"6\",\n        }],\n [{\n            'v': 2,\n            'f': \"2\",\n        },\n{\n            'v': 6,\n            'f': \"6\",\n        },\n{\n            'v': 4,\n            'f': \"4\",\n        }]],\n        columns: [[\"number\", \"index\"], [\"number\", \"c1\"], [\"number\", \"c2\"]],\n        columnOptions: [{\"width\": \"1px\", \"className\": \"index_column\"}],\n        rowsPerPage: 25,\n        helpUrl: \"https://colab.research.google.com/notebooks/data_table.ipynb\",\n        suppressOutputScrolling: true,\n        minimumWidth: undefined,\n      });\n    ",
            "text/html": [
              "<div>\n",
              "<style scoped>\n",
              "    .dataframe tbody tr th:only-of-type {\n",
              "        vertical-align: middle;\n",
              "    }\n",
              "\n",
              "    .dataframe tbody tr th {\n",
              "        vertical-align: top;\n",
              "    }\n",
              "\n",
              "    .dataframe thead th {\n",
              "        text-align: right;\n",
              "    }\n",
              "</style>\n",
              "<table border=\"1\" class=\"dataframe\">\n",
              "  <thead>\n",
              "    <tr style=\"text-align: right;\">\n",
              "      <th></th>\n",
              "      <th>c1</th>\n",
              "      <th>c2</th>\n",
              "    </tr>\n",
              "  </thead>\n",
              "  <tbody>\n",
              "    <tr>\n",
              "      <th>0</th>\n",
              "      <td>4</td>\n",
              "      <td>4</td>\n",
              "    </tr>\n",
              "    <tr>\n",
              "      <th>1</th>\n",
              "      <td>5</td>\n",
              "      <td>6</td>\n",
              "    </tr>\n",
              "    <tr>\n",
              "      <th>2</th>\n",
              "      <td>6</td>\n",
              "      <td>4</td>\n",
              "    </tr>\n",
              "  </tbody>\n",
              "</table>\n",
              "</div>"
            ],
            "text/plain": [
              "   c1  c2\n",
              "0   4   4\n",
              "1   5   6\n",
              "2   6   4"
            ]
          },
          "metadata": {
            "tags": []
          },
          "execution_count": 148
        }
      ]
    },
    {
      "cell_type": "code",
      "metadata": {
        "id": "L9oWk61wDdGG"
      },
      "source": [
        ""
      ],
      "execution_count": null,
      "outputs": []
    },
    {
      "cell_type": "code",
      "metadata": {
        "colab": {
          "base_uri": "https://localhost:8080/"
        },
        "id": "iTBlNbIH4mEK",
        "outputId": "0f4cd54a-28b1-4da1-8308-85765cd6bb95"
      },
      "source": [
        "# Tiziana\r\n",
        "# Esercizio 2\r\n",
        "import pandas as pd\r\n",
        "import numpy as np\r\n",
        "url =\"https://raw.githubusercontent.com/pcm-dpc/COVID-19/master/dati-andamento-nazionale/dpc-covid19-ita-andamento-nazionale.csv\"\r\n",
        "df = pd.read_csv(url)\r\n",
        "df.head()\r\n",
        "totale_positivi_array = df[\"totale_positivi\"].values\r\n",
        "deceduti_array = df[\"deceduti\"].values\r\n",
        "\r\n",
        "# Transforma in lista\r\n",
        "# Il numero di deceduti oggi\r\n",
        "dec_oggi = list([deceduti_array[-1]])\r\n",
        "print(dec_oggi)\r\n",
        "\r\n",
        "# Il numero di totale_positivi oggi\r\n",
        "pos = list([totale_positivi_array[ [-5,-1] ]])\r\n",
        "posUltimi10 = list([totale_positivi_array[ -10: ]])\r\n",
        "posPrimi10 = list([totale_positivi_array[ :10 ]])\r\n",
        "\r\n",
        "\r\n",
        "print( \"Positivi %s \" %(pos) )\r\n",
        "\r\n",
        "postLista = []\r\n",
        "postLista.append(totale_positivi_array[-2])\r\n",
        "postLista.append(totale_positivi_array[-1])\r\n",
        "\r\n",
        "print( \"Positivi %s \" %(postLista) )\r\n",
        "\r\n",
        "# Varizione totale positivi tra ieri ed oggi\r\n",
        "#--> l'ultimo - il penultimo della nostra lista\r\n",
        "var_pos = postLista[1] - postLista[0]\r\n",
        "print(var_pos)"
      ],
      "execution_count": 111,
      "outputs": [
        {
          "output_type": "stream",
          "text": [
            "[85881]\n",
            "Positivi [array([557717, 553374, 547059, 535524, 523553, 516568, 502053, 498834,\n",
            "       499278, 491630])] \n",
            "Positivi [499278, 491630] \n",
            "-7648\n"
          ],
          "name": "stdout"
        }
      ]
    },
    {
      "cell_type": "code",
      "metadata": {
        "id": "gJzKi7vi8opj"
      },
      "source": [
        "# Mattia\r\n",
        "lista1 = []\r\n",
        "lista1.append(deceduti_array[-1])\r\n",
        "lista1.append(totale_positivi_array[-1])\r\n",
        "lista1.append(totale_positivi_array[-1] + totale_positivi_array[-2])\r\n",
        "\r\n",
        "lista1"
      ],
      "execution_count": null,
      "outputs": []
    }
  ]
}